{
 "cells": [
  {
   "cell_type": "code",
   "execution_count": 2,
   "metadata": {
    "collapsed": true,
    "pycharm": {
     "name": "#%%\n"
    }
   },
   "outputs": [],
   "source": [
    "import matplotlib.pyplot as plt\n",
    "import numpy as np\n",
    "from optimize_vars import make_virus\n",
    "from Virus import GLOBAL_N\n",
    "from time import *\n",
    "from scipy.integrate import solve_ivp\n",
    "import cython"
   ]
  },
  {
   "cell_type": "code",
   "execution_count": 4,
   "outputs": [
    {
     "name": "stderr",
     "output_type": "stream",
     "text": [
      "UsageError: Line magic function `%cython` not found.\n"
     ]
    }
   ],
   "source": [],
   "metadata": {
    "collapsed": false,
    "pycharm": {
     "name": "#%%\n"
    }
   }
  },
  {
   "cell_type": "code",
   "execution_count": 3,
   "outputs": [],
   "source": [
    "cont_params = {\n",
    "    'x': np.array([ 0.71534496,  0.22803664,  0.48380948, 20.97253698,  0.19946303,0.02189386]),\n",
    "    'kappa_array': [0.07039722784832704, 0.19512893239089457, 0.19466880988185178, 0.1832622137179662, 0.10308514535244785, 0.16455087939649646],\n",
    "    'contact_trace': 0.00027800552003383127,\n",
    "    'y0': np.array([ 3.58795629e+06,  6.29179911e+04,  8.34779371e+03,  6.48365014e+04,\n",
    "        6.93237159e+09, -4.31803955e+09, -6.93215512e+09,  8.57448508e+04,\n",
    "        4.31804921e+09,  3.97476917e+06]),\n",
    "    'm_array': [0.38944077054215026, 0.0017922737890156248, 0.0006701231750814447, 0.0008443027411139767, 0.0041535702965665175],\n",
    "    'vaccine_parameters': np.array([0.38147348, 0.03395146, 0.78936041])\n",
    "}"
   ],
   "metadata": {
    "collapsed": false,
    "pycharm": {
     "name": "#%%\n"
    }
   }
  },
  {
   "cell_type": "code",
   "execution_count": 4,
   "outputs": [],
   "source": [
    "test_virus = make_virus(cont_params)"
   ],
   "metadata": {
    "collapsed": false,
    "pycharm": {
     "name": "#%%\n"
    }
   }
  },
  {
   "cell_type": "code",
   "execution_count": 6,
   "outputs": [
    {
     "name": "stdout",
     "output_type": "stream",
     "text": [
      "integration time per increasing time for each method:\n",
      "max t for integration 25\n",
      "    method : RK45 - time : 0.0270078182220459\n",
      "    method : Radau - time : 0.04172582626342773\n",
      "    method : DOP853 - time : 0.05086045265197754\n",
      "    method : BDF - time : 0.04077589511871338\n",
      "    method : LSODA - time : 0.030349183082580566\n",
      "max t for integration 50\n",
      "    method : RK45 - time : 0.05306031703948975\n",
      "    method : Radau - time : 0.1347031593322754\n",
      "    method : DOP853 - time : 0.11563675403594971\n",
      "    method : BDF - time : 0.09525487422943116\n",
      "    method : LSODA - time : 0.06289584636688232\n",
      "max t for integration 75\n",
      "    method : RK45 - time : 0.12843081951141358\n",
      "    method : Radau - time : 0.264538836479187\n",
      "    method : DOP853 - time : 0.2403646230697632\n",
      "    method : BDF - time : 0.21707894802093505\n",
      "    method : LSODA - time : 0.14724738597869874\n",
      "max t for integration 100\n",
      "    method : RK45 - time : 0.15163748264312743\n",
      "    method : Radau - time : 0.34947364330291747\n",
      "    method : DOP853 - time : 0.2739864349365234\n",
      "    method : BDF - time : 0.22676217555999756\n",
      "    method : LSODA - time : 0.16421067714691162\n",
      "max t for integration 125\n",
      "    method : RK45 - time : 0.1889047622680664\n",
      "    method : Radau - time : 0.37014796733856203\n",
      "    method : DOP853 - time : 0.3397362470626831\n",
      "    method : BDF - time : 0.2392335891723633\n",
      "    method : LSODA - time : 0.20495133399963378\n",
      "max t for integration 150\n",
      "    method : RK45 - time : 0.22057859897613524\n",
      "    method : Radau - time : 0.395784330368042\n",
      "    method : DOP853 - time : 0.35469162464141846\n",
      "    method : BDF - time : 0.2704193592071533\n",
      "    method : LSODA - time : 0.23957426548004152\n",
      "max t for integration 175\n",
      "    method : RK45 - time : 0.2478858470916748\n",
      "    method : Radau - time : 0.4185617685317993\n",
      "    method : DOP853 - time : 0.41020984649658204\n",
      "    method : BDF - time : 0.2878988742828369\n",
      "    method : LSODA - time : 0.27629637718200684\n",
      "max t for integration 200\n",
      "    method : RK45 - time : 0.27233638763427737\n",
      "    method : Radau - time : 0.45983779430389404\n",
      "    method : DOP853 - time : 0.46422126293182375\n",
      "    method : BDF - time : 0.3375258445739746\n",
      "    method : LSODA - time : 0.29372396469116213\n",
      "max t for integration 225\n",
      "    method : RK45 - time : 0.4098261117935181\n",
      "    method : Radau - time : 0.8763906955718994\n",
      "    method : DOP853 - time : 0.7048650979995728\n",
      "    method : BDF - time : 0.5850463151931763\n",
      "    method : LSODA - time : 0.4163429021835327\n",
      "max t for integration 250\n",
      "    method : RK45 - time : 0.5525208950042725\n",
      "    method : Radau - time : 1.0467888355255126\n",
      "    method : DOP853 - time : 1.0218947410583497\n",
      "    method : BDF - time : 0.6623308420181274\n",
      "    method : LSODA - time : 0.5676420211791993\n",
      "max t for integration 275\n",
      "    method : RK45 - time : 0.7211460828781128\n",
      "    method : Radau - time : 1.2408360481262206\n",
      "    method : DOP853 - time : 1.2907104730606078\n",
      "    method : BDF - time : 0.7798777103424073\n",
      "    method : LSODA - time : 0.812927508354187\n",
      "max t for integration 300\n",
      "    method : RK45 - time : 0.9279134273529053\n",
      "    method : Radau - time : 1.3286552429199219\n",
      "    method : DOP853 - time : 1.5868525743484496\n",
      "    method : BDF - time : 0.8624869585037231\n",
      "    method : LSODA - time : 0.8675987720489502\n",
      "max t for integration 325\n",
      "    method : RK45 - time : 1.0792304754257203\n",
      "    method : Radau - time : 1.3801541805267334\n",
      "    method : DOP853 - time : 1.8938317537307738\n",
      "    method : BDF - time : 0.9911963462829589\n",
      "    method : LSODA - time : 0.9977904796600342\n",
      "max t for integration 350\n",
      "    method : RK45 - time : 1.4572582244873047\n",
      "    method : Radau - time : 4.268152809143066\n",
      "    method : DOP853 - time : 6.430415797233581\n",
      "    method : BDF - time : 3.439753770828247\n",
      "    method : LSODA - time : 2.90001962184906\n"
     ]
    }
   ],
   "source": [
    "methods = ['RK45', 'Radau', 'DOP853', 'BDF', 'LSODA']\n",
    "t_min = 0\n",
    "t_max_array = [25 * i for i in range(1, 15)]\n",
    "N = GLOBAL_N\n",
    "y0 = np.array([N, 0., 0., 1., 0., 0., 0., 0., 0., 0.], dtype=float)\n",
    "time_dict = {\"RK45\" : [], \"Radau\" : [], \"DOP853\" : [], 'BDF' : [], \"LSODA\" : []}\n",
    "\n",
    "print(\"integration time per increasing time for each method:\")\n",
    "\n",
    "for t_max in t_max_array:\n",
    "    print(f\"max t for integration {t_max}\")\n",
    "    for method in methods:\n",
    "        time_sum = 0\n",
    "        for i in range(15):\n",
    "            start = time()\n",
    "            sol = solve_ivp(\n",
    "                    test_virus.derivatives,\n",
    "                    (t_min, t_max),\n",
    "                    y0=y0,\n",
    "                    t_eval=np.arange(t_min, t_max),\n",
    "                    method=method,\n",
    "            )\n",
    "            end = time()\n",
    "            time_sum += end - start\n",
    "        time_mean = time_sum/10\n",
    "        time_dict[method].append(time_mean)\n",
    "        print(f\"    method : {method} - time : {time_mean}\")"
   ],
   "metadata": {
    "collapsed": false,
    "pycharm": {
     "name": "#%%\n"
    }
   }
  },
  {
   "cell_type": "code",
   "execution_count": 7,
   "outputs": [
    {
     "name": "stdout",
     "output_type": "stream",
     "text": [
      "method : RK45 - mean time 0.45983837502343317\n",
      "method : Radau - mean time 0.8982679384095329\n",
      "method : DOP853 - mean time 1.0841626916612896\n",
      "method : BDF - mean time 0.6454029645238604\n",
      "method : LSODA - mean time 0.57011216708592\n"
     ]
    }
   ],
   "source": [
    "for method in methods:\n",
    "    print(f\"method : {method} - mean time {np.mean(time_dict[method])}\")"
   ],
   "metadata": {
    "collapsed": false,
    "pycharm": {
     "name": "#%%\n"
    }
   }
  },
  {
   "cell_type": "code",
   "execution_count": 30,
   "outputs": [
    {
     "name": "stdout",
     "output_type": "stream",
     "text": [
      "RK45 = b--\n"
     ]
    },
    {
     "name": "stderr",
     "output_type": "stream",
     "text": [
      "C:\\ProgramData\\Anaconda3\\envs\\Moach\\lib\\site-packages\\seaborn\\_decorators.py:36: FutureWarning: Pass the following variables as keyword args: x, y. From version 0.12, the only valid positional argument will be `data`, and passing other arguments without an explicit keyword will result in an error or misinterpretation.\n",
      "  warnings.warn(\n"
     ]
    },
    {
     "ename": "TypeError",
     "evalue": "unhashable type: 'list'",
     "output_type": "error",
     "traceback": [
      "\u001B[1;31m---------------------------------------------------------------------------\u001B[0m",
      "\u001B[1;31mAttributeError\u001B[0m                            Traceback (most recent call last)",
      "File \u001B[1;32mC:\\ProgramData\\Anaconda3\\envs\\Moach\\lib\\site-packages\\seaborn\\_core.py:1479\u001B[0m, in \u001B[0;36mcategorical_order\u001B[1;34m(vector, order)\u001B[0m\n\u001B[0;32m   1478\u001B[0m \u001B[38;5;28;01mtry\u001B[39;00m:\n\u001B[1;32m-> 1479\u001B[0m     order \u001B[38;5;241m=\u001B[39m \u001B[43mvector\u001B[49m\u001B[38;5;241;43m.\u001B[39;49m\u001B[43mcat\u001B[49m\u001B[38;5;241m.\u001B[39mcategories\n\u001B[0;32m   1480\u001B[0m \u001B[38;5;28;01mexcept\u001B[39;00m (\u001B[38;5;167;01mTypeError\u001B[39;00m, \u001B[38;5;167;01mAttributeError\u001B[39;00m):\n",
      "File \u001B[1;32mC:\\ProgramData\\Anaconda3\\envs\\Moach\\lib\\site-packages\\pandas\\core\\generic.py:5583\u001B[0m, in \u001B[0;36m__getattr__\u001B[1;34m(self, name)\u001B[0m\n\u001B[0;32m   5578\u001B[0m \"\"\"\n\u001B[0;32m   5579\u001B[0m After regular attribute access, try setting the name\n\u001B[0;32m   5580\u001B[0m This allows simpler access to columns for interactive use.\n\u001B[0;32m   5581\u001B[0m \"\"\"\n\u001B[0;32m   5582\u001B[0m # first try regular attribute access via __getattribute__, so that\n\u001B[1;32m-> 5583\u001B[0m # e.g. ``obj.x`` and ``obj.x = 4`` will always reference/modify\n\u001B[0;32m   5584\u001B[0m # the same attribute.\n\u001B[0;32m   5586\u001B[0m try:\n",
      "File \u001B[1;32mC:\\ProgramData\\Anaconda3\\envs\\Moach\\lib\\site-packages\\pandas\\core\\accessor.py:182\u001B[0m, in \u001B[0;36mCachedAccessor.__get__\u001B[1;34m(self, obj, cls)\u001B[0m\n\u001B[0;32m    181\u001B[0m     \u001B[38;5;28;01mreturn\u001B[39;00m \u001B[38;5;28mself\u001B[39m\u001B[38;5;241m.\u001B[39m_accessor\n\u001B[1;32m--> 182\u001B[0m accessor_obj \u001B[38;5;241m=\u001B[39m \u001B[38;5;28;43mself\u001B[39;49m\u001B[38;5;241;43m.\u001B[39;49m\u001B[43m_accessor\u001B[49m\u001B[43m(\u001B[49m\u001B[43mobj\u001B[49m\u001B[43m)\u001B[49m\n\u001B[0;32m    183\u001B[0m \u001B[38;5;66;03m# Replace the property with the accessor object. Inspired by:\u001B[39;00m\n\u001B[0;32m    184\u001B[0m \u001B[38;5;66;03m# https://www.pydanny.com/cached-property.html\u001B[39;00m\n\u001B[0;32m    185\u001B[0m \u001B[38;5;66;03m# We need to use object.__setattr__ because we overwrite __setattr__ on\u001B[39;00m\n\u001B[0;32m    186\u001B[0m \u001B[38;5;66;03m# NDFrame\u001B[39;00m\n",
      "File \u001B[1;32mC:\\ProgramData\\Anaconda3\\envs\\Moach\\lib\\site-packages\\pandas\\core\\arrays\\categorical.py:2717\u001B[0m, in \u001B[0;36mCategoricalAccessor.__init__\u001B[1;34m(self, data)\u001B[0m\n\u001B[0;32m   2716\u001B[0m \u001B[38;5;28;01mdef\u001B[39;00m \u001B[38;5;21m__init__\u001B[39m(\u001B[38;5;28mself\u001B[39m, data):\n\u001B[1;32m-> 2717\u001B[0m     \u001B[38;5;28;43mself\u001B[39;49m\u001B[38;5;241;43m.\u001B[39;49m\u001B[43m_validate\u001B[49m\u001B[43m(\u001B[49m\u001B[43mdata\u001B[49m\u001B[43m)\u001B[49m\n\u001B[0;32m   2718\u001B[0m     \u001B[38;5;28mself\u001B[39m\u001B[38;5;241m.\u001B[39m_parent \u001B[38;5;241m=\u001B[39m data\u001B[38;5;241m.\u001B[39mvalues\n",
      "File \u001B[1;32mC:\\ProgramData\\Anaconda3\\envs\\Moach\\lib\\site-packages\\pandas\\core\\arrays\\categorical.py:2726\u001B[0m, in \u001B[0;36mCategoricalAccessor._validate\u001B[1;34m(data)\u001B[0m\n\u001B[0;32m   2725\u001B[0m \u001B[38;5;28;01mif\u001B[39;00m \u001B[38;5;129;01mnot\u001B[39;00m is_categorical_dtype(data\u001B[38;5;241m.\u001B[39mdtype):\n\u001B[1;32m-> 2726\u001B[0m     \u001B[38;5;28;01mraise\u001B[39;00m \u001B[38;5;167;01mAttributeError\u001B[39;00m(\u001B[38;5;124m\"\u001B[39m\u001B[38;5;124mCan only use .cat accessor with a \u001B[39m\u001B[38;5;124m'\u001B[39m\u001B[38;5;124mcategory\u001B[39m\u001B[38;5;124m'\u001B[39m\u001B[38;5;124m dtype\u001B[39m\u001B[38;5;124m\"\u001B[39m)\n",
      "\u001B[1;31mAttributeError\u001B[0m: Can only use .cat accessor with a 'category' dtype",
      "\nDuring handling of the above exception, another exception occurred:\n",
      "\u001B[1;31mTypeError\u001B[0m                                 Traceback (most recent call last)",
      "Input \u001B[1;32mIn [30]\u001B[0m, in \u001B[0;36m<cell line: 3>\u001B[1;34m()\u001B[0m\n\u001B[0;32m      3\u001B[0m \u001B[38;5;28;01mfor\u001B[39;00m color, method \u001B[38;5;129;01min\u001B[39;00m \u001B[38;5;28mzip\u001B[39m(color_arr, methods):\n\u001B[0;32m      4\u001B[0m     \u001B[38;5;28mprint\u001B[39m(\u001B[38;5;124mf\u001B[39m\u001B[38;5;124m'\u001B[39m\u001B[38;5;132;01m{\u001B[39;00mmethod\u001B[38;5;132;01m}\u001B[39;00m\u001B[38;5;124m = \u001B[39m\u001B[38;5;132;01m{\u001B[39;00mcolor\u001B[38;5;132;01m}\u001B[39;00m\u001B[38;5;124m'\u001B[39m)\n\u001B[1;32m----> 5\u001B[0m     \u001B[43msns\u001B[49m\u001B[38;5;241;43m.\u001B[39;49m\u001B[43mscatterplot\u001B[49m\u001B[43m(\u001B[49m\u001B[38;5;124;43m'\u001B[39;49m\u001B[38;5;124;43mt\u001B[39;49m\u001B[38;5;124;43m'\u001B[39;49m\u001B[43m,\u001B[49m\u001B[43m \u001B[49m\u001B[38;5;124;43m'\u001B[39;49m\u001B[38;5;124;43mtime_taken\u001B[39;49m\u001B[38;5;124;43m'\u001B[39;49m\u001B[43m,\u001B[49m\u001B[43m \u001B[49m\u001B[43mdata\u001B[49m\u001B[38;5;241;43m=\u001B[39;49m\u001B[43mdf\u001B[49m\u001B[43m,\u001B[49m\u001B[43m \u001B[49m\u001B[43mhue\u001B[49m\u001B[38;5;241;43m=\u001B[39;49m\u001B[38;5;124;43m'\u001B[39;49m\u001B[38;5;124;43mmethod\u001B[39;49m\u001B[38;5;124;43m'\u001B[39;49m\u001B[43m)\u001B[49m\n",
      "File \u001B[1;32mC:\\ProgramData\\Anaconda3\\envs\\Moach\\lib\\site-packages\\seaborn\\_decorators.py:46\u001B[0m, in \u001B[0;36m_deprecate_positional_args.<locals>.inner_f\u001B[1;34m(*args, **kwargs)\u001B[0m\n\u001B[0;32m     36\u001B[0m     warnings\u001B[38;5;241m.\u001B[39mwarn(\n\u001B[0;32m     37\u001B[0m         \u001B[38;5;124m\"\u001B[39m\u001B[38;5;124mPass the following variable\u001B[39m\u001B[38;5;132;01m{}\u001B[39;00m\u001B[38;5;124m as \u001B[39m\u001B[38;5;132;01m{}\u001B[39;00m\u001B[38;5;124mkeyword arg\u001B[39m\u001B[38;5;132;01m{}\u001B[39;00m\u001B[38;5;124m: \u001B[39m\u001B[38;5;132;01m{}\u001B[39;00m\u001B[38;5;124m. \u001B[39m\u001B[38;5;124m\"\u001B[39m\n\u001B[0;32m     38\u001B[0m         \u001B[38;5;124m\"\u001B[39m\u001B[38;5;124mFrom version 0.12, the only valid positional argument \u001B[39m\u001B[38;5;124m\"\u001B[39m\n\u001B[1;32m   (...)\u001B[0m\n\u001B[0;32m     43\u001B[0m         \u001B[38;5;167;01mFutureWarning\u001B[39;00m\n\u001B[0;32m     44\u001B[0m     )\n\u001B[0;32m     45\u001B[0m kwargs\u001B[38;5;241m.\u001B[39mupdate({k: arg \u001B[38;5;28;01mfor\u001B[39;00m k, arg \u001B[38;5;129;01min\u001B[39;00m \u001B[38;5;28mzip\u001B[39m(sig\u001B[38;5;241m.\u001B[39mparameters, args)})\n\u001B[1;32m---> 46\u001B[0m \u001B[38;5;28;01mreturn\u001B[39;00m f(\u001B[38;5;241m*\u001B[39m\u001B[38;5;241m*\u001B[39mkwargs)\n",
      "File \u001B[1;32mC:\\ProgramData\\Anaconda3\\envs\\Moach\\lib\\site-packages\\seaborn\\relational.py:825\u001B[0m, in \u001B[0;36mscatterplot\u001B[1;34m(x, y, hue, style, size, data, palette, hue_order, hue_norm, sizes, size_order, size_norm, markers, style_order, x_bins, y_bins, units, estimator, ci, n_boot, alpha, x_jitter, y_jitter, legend, ax, **kwargs)\u001B[0m\n\u001B[0;32m    822\u001B[0m \u001B[38;5;28;01mif\u001B[39;00m \u001B[38;5;129;01mnot\u001B[39;00m p\u001B[38;5;241m.\u001B[39mhas_xy_data:\n\u001B[0;32m    823\u001B[0m     \u001B[38;5;28;01mreturn\u001B[39;00m ax\n\u001B[1;32m--> 825\u001B[0m \u001B[43mp\u001B[49m\u001B[38;5;241;43m.\u001B[39;49m\u001B[43m_attach\u001B[49m\u001B[43m(\u001B[49m\u001B[43max\u001B[49m\u001B[43m)\u001B[49m\n\u001B[0;32m    827\u001B[0m p\u001B[38;5;241m.\u001B[39mplot(ax, kwargs)\n\u001B[0;32m    829\u001B[0m \u001B[38;5;28;01mreturn\u001B[39;00m ax\n",
      "File \u001B[1;32mC:\\ProgramData\\Anaconda3\\envs\\Moach\\lib\\site-packages\\seaborn\\_core.py:1137\u001B[0m, in \u001B[0;36mVectorPlotter._attach\u001B[1;34m(self, obj, allowed_types, log_scale)\u001B[0m\n\u001B[0;32m   1135\u001B[0m         seed_data \u001B[38;5;241m=\u001B[39m \u001B[38;5;28mself\u001B[39m\u001B[38;5;241m.\u001B[39mplot_data[var]\n\u001B[0;32m   1136\u001B[0m         \u001B[38;5;28;01mif\u001B[39;00m var_type \u001B[38;5;241m==\u001B[39m \u001B[38;5;124m\"\u001B[39m\u001B[38;5;124mcategorical\u001B[39m\u001B[38;5;124m\"\u001B[39m:\n\u001B[1;32m-> 1137\u001B[0m             seed_data \u001B[38;5;241m=\u001B[39m \u001B[43mcategorical_order\u001B[49m\u001B[43m(\u001B[49m\u001B[43mseed_data\u001B[49m\u001B[43m)\u001B[49m\n\u001B[0;32m   1138\u001B[0m         axis\u001B[38;5;241m.\u001B[39mupdate_units(seed_data)\n\u001B[0;32m   1140\u001B[0m \u001B[38;5;66;03m# For categorical y, we want the \"first\" level to be at the top of the axis\u001B[39;00m\n",
      "File \u001B[1;32mC:\\ProgramData\\Anaconda3\\envs\\Moach\\lib\\site-packages\\seaborn\\_core.py:1483\u001B[0m, in \u001B[0;36mcategorical_order\u001B[1;34m(vector, order)\u001B[0m\n\u001B[0;32m   1480\u001B[0m \u001B[38;5;28;01mexcept\u001B[39;00m (\u001B[38;5;167;01mTypeError\u001B[39;00m, \u001B[38;5;167;01mAttributeError\u001B[39;00m):\n\u001B[0;32m   1482\u001B[0m     \u001B[38;5;28;01mtry\u001B[39;00m:\n\u001B[1;32m-> 1483\u001B[0m         order \u001B[38;5;241m=\u001B[39m \u001B[43mvector\u001B[49m\u001B[38;5;241;43m.\u001B[39;49m\u001B[43munique\u001B[49m\u001B[43m(\u001B[49m\u001B[43m)\u001B[49m\n\u001B[0;32m   1484\u001B[0m     \u001B[38;5;28;01mexcept\u001B[39;00m \u001B[38;5;167;01mAttributeError\u001B[39;00m:\n\u001B[0;32m   1485\u001B[0m         order \u001B[38;5;241m=\u001B[39m pd\u001B[38;5;241m.\u001B[39munique(vector)\n",
      "File \u001B[1;32mC:\\ProgramData\\Anaconda3\\envs\\Moach\\lib\\site-packages\\pandas\\core\\series.py:2095\u001B[0m, in \u001B[0;36munique\u001B[1;34m(self)\u001B[0m\n\u001B[0;32m   2090\u001B[0m \u001B[38;5;129m@overload\u001B[39m\n\u001B[0;32m   2091\u001B[0m \u001B[38;5;28;01mdef\u001B[39;00m \u001B[38;5;21mdrop_duplicates\u001B[39m(\u001B[38;5;28mself\u001B[39m, keep\u001B[38;5;241m=\u001B[39m\u001B[38;5;241m.\u001B[39m\u001B[38;5;241m.\u001B[39m\u001B[38;5;241m.\u001B[39m, inplace: Literal[\u001B[38;5;28;01mFalse\u001B[39;00m] \u001B[38;5;241m=\u001B[39m \u001B[38;5;241m.\u001B[39m\u001B[38;5;241m.\u001B[39m\u001B[38;5;241m.\u001B[39m) \u001B[38;5;241m-\u001B[39m\u001B[38;5;241m>\u001B[39m Series:\n\u001B[0;32m   2092\u001B[0m     \u001B[38;5;241m.\u001B[39m\u001B[38;5;241m.\u001B[39m\u001B[38;5;241m.\u001B[39m\n\u001B[0;32m   2094\u001B[0m \u001B[38;5;129m@overload\u001B[39m\n\u001B[1;32m-> 2095\u001B[0m \u001B[38;5;28;01mdef\u001B[39;00m \u001B[38;5;21mdrop_duplicates\u001B[39m(\u001B[38;5;28mself\u001B[39m, keep, inplace: Literal[\u001B[38;5;28;01mTrue\u001B[39;00m]) \u001B[38;5;241m-\u001B[39m\u001B[38;5;241m>\u001B[39m \u001B[38;5;28;01mNone\u001B[39;00m:\n\u001B[0;32m   2096\u001B[0m     \u001B[38;5;241m.\u001B[39m\u001B[38;5;241m.\u001B[39m\u001B[38;5;241m.\u001B[39m\n\u001B[0;32m   2098\u001B[0m \u001B[38;5;129m@overload\u001B[39m\n\u001B[0;32m   2099\u001B[0m \u001B[38;5;28;01mdef\u001B[39;00m \u001B[38;5;21mdrop_duplicates\u001B[39m(\u001B[38;5;28mself\u001B[39m, \u001B[38;5;241m*\u001B[39m, inplace: Literal[\u001B[38;5;28;01mTrue\u001B[39;00m]) \u001B[38;5;241m-\u001B[39m\u001B[38;5;241m>\u001B[39m \u001B[38;5;28;01mNone\u001B[39;00m:\n",
      "File \u001B[1;32mC:\\ProgramData\\Anaconda3\\envs\\Moach\\lib\\site-packages\\pandas\\core\\base.py:989\u001B[0m, in \u001B[0;36mIndexOpsMixin.unique\u001B[1;34m(self)\u001B[0m\n\u001B[0;32m    987\u001B[0m             result \u001B[38;5;241m=\u001B[39m np\u001B[38;5;241m.\u001B[39masarray(result)\n\u001B[0;32m    988\u001B[0m \u001B[38;5;28;01melse\u001B[39;00m:\n\u001B[1;32m--> 989\u001B[0m     result \u001B[38;5;241m=\u001B[39m \u001B[43munique1d\u001B[49m\u001B[43m(\u001B[49m\u001B[43mvalues\u001B[49m\u001B[43m)\u001B[49m\n\u001B[0;32m    991\u001B[0m \u001B[38;5;28;01mreturn\u001B[39;00m result\n",
      "File \u001B[1;32mC:\\ProgramData\\Anaconda3\\envs\\Moach\\lib\\site-packages\\pandas\\core\\algorithms.py:440\u001B[0m, in \u001B[0;36munique\u001B[1;34m(values)\u001B[0m\n\u001B[0;32m    437\u001B[0m htable, values \u001B[38;5;241m=\u001B[39m _get_hashtable_algo(values)\n\u001B[0;32m    439\u001B[0m table \u001B[38;5;241m=\u001B[39m htable(\u001B[38;5;28mlen\u001B[39m(values))\n\u001B[1;32m--> 440\u001B[0m uniques \u001B[38;5;241m=\u001B[39m \u001B[43mtable\u001B[49m\u001B[38;5;241;43m.\u001B[39;49m\u001B[43munique\u001B[49m\u001B[43m(\u001B[49m\u001B[43mvalues\u001B[49m\u001B[43m)\u001B[49m\n\u001B[0;32m    441\u001B[0m uniques \u001B[38;5;241m=\u001B[39m _reconstruct_data(uniques, original\u001B[38;5;241m.\u001B[39mdtype, original)\n\u001B[0;32m    442\u001B[0m \u001B[38;5;28;01mreturn\u001B[39;00m uniques\n",
      "File \u001B[1;32mpandas\\_libs\\hashtable_class_helper.pxi:5361\u001B[0m, in \u001B[0;36mpandas._libs.hashtable.PyObjectHashTable.unique\u001B[1;34m()\u001B[0m\n",
      "File \u001B[1;32mpandas\\_libs\\hashtable_class_helper.pxi:5310\u001B[0m, in \u001B[0;36mpandas._libs.hashtable.PyObjectHashTable._unique\u001B[1;34m()\u001B[0m\n",
      "\u001B[1;31mTypeError\u001B[0m: unhashable type: 'list'"
     ]
    },
    {
     "data": {
      "text/plain": "<Figure size 432x288 with 1 Axes>",
      "image/png": "[encoded data removed]"
     },
     "metadata": {
      "needs_background": "light"
     },
     "output_type": "display_data"
    }
   ],
   "source": [
    "color_arr = ['b--', 'g--', 'r--', 'y--', 'm--']\n",
    "for color, method in zip(color_arr, methods):\n",
    "    print(f'{method} = {color}')\n",
    "    plt.plot(t_max_array, time_dict[method], color)"
   ],
   "metadata": {
    "collapsed": false,
    "pycharm": {
     "name": "#%%\n"
    }
   }
  }
 ],
 "metadata": {
  "kernelspec": {
   "display_name": "Python 3",
   "language": "python",
   "name": "python3"
  },
  "language_info": {
   "codemirror_mode": {
    "name": "ipython",
    "version": 2
   },
   "file_extension": ".py",
   "mimetype": "text/x-python",
   "name": "python",
   "nbconvert_exporter": "python",
   "pygments_lexer": "ipython2",
   "version": "2.7.6"
  }
 },
 "nbformat": 4,
 "nbformat_minor": 0
}